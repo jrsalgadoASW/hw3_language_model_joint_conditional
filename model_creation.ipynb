{
 "cells": [
  {
   "attachments": {},
   "cell_type": "markdown",
   "metadata": {},
   "source": [
    "# Language Detection\n",
    "In this notebook, we present a program that detects if a given text is in English or in Spanish based on a rough probability model."
   ]
  },
  {
   "attachments": {},
   "cell_type": "markdown",
   "metadata": {},
   "source": [
    "## Prerequisites and libraries"
   ]
  },
  {
   "cell_type": "code",
   "execution_count": 81,
   "metadata": {},
   "outputs": [],
   "source": [
    "import string\n",
    "import math\n",
    "import matplotlib.pyplot as plt\n",
    "import seaborn as sns\n",
    "sns.set()\n",
    "from unidecode import unidecode\n",
    "import pandas as pd\n",
    "pd.set_option('display.max_rows',500)\n",
    "import numpy as np\n",
    "#note that we did not use any ML library\n",
    "\n",
    "#read text from file\n",
    "def read_file(filename: str)->str:\n",
    "    with open(filename, 'r',encoding=\"utf-8\") as file:\n",
    "        content = file.read()\n",
    "    return unidecode(content)\n",
    "\n",
    "def get_clean_text(text:str)->str:\n",
    "  all_characters = string.ascii_lowercase\n",
    "  uppercase_character = string.ascii_uppercase\n",
    "  character_list = list(text)\n",
    "\n",
    "  for char in character_list:\n",
    "    if char in uppercase_character:\n",
    "      text = text.replace(char, char.lower())\n",
    "    elif char not in all_characters:\n",
    "      text = text.replace(char, \"\")\n",
    "  return text"
   ]
  },
  {
   "attachments": {},
   "cell_type": "markdown",
   "metadata": {},
   "source": [
    "## Defining the model\n",
    "Our model is pretty simple: We count the amount of times that each letter occurs in the text 'Cien años de soledad' and we build an histogram based on these frequencies. That histogram is latter used as an estimation of the likelihood of occurance of each letter in the text T whose language we want to identify, and will be used as an estimation of how likely is that the text T is in Spanish. After that, we multiply the 'Spanish likelihood' of each of the letters that indeed apear in the text T (assuming independence between them), to get our Spanish likehood of text T. We do the same process to build an estimation how likely is that the text T is in English, only this time we use the book 'To kill a mockingbird' as training text. We then compare both likehood and determine which language is more plausible that the text T is written in. "
   ]
  },
  {
   "cell_type": "code",
   "execution_count": 82,
   "metadata": {},
   "outputs": [],
   "source": [
    "#save text string in variab\n",
    "short_story_name_spanish:str = \"gabriel_garcia_marquez_cien_annos_soledad.txt\"\n",
    "short_story_name_english:str = \"to_kill_a_mockingbird.txt\""
   ]
  },
  {
   "attachments": {},
   "cell_type": "markdown",
   "metadata": {},
   "source": [
    "### Chosen texts\n",
    "The reason to choose 'Cien años de soledad' and 'To kill a mockingbird' is that these two books share some important characteristics: They are both novels that have beetween 100k and 150k words, they were written in the 60s (relatively recently), they are literature classics of their respetive countries and they both address social issues. With this, we wanted to avoid bias in the model; for example, choosing an older text as 'El Quijote' could cause problems because Spanish has evolved a lot since Cervantes (Words like 'Hierro' and 'Hermosa' used to be written as 'Fierro' and 'Fermosa', changing the distribution). We believe that these two texts are good fits for the model, specially when put together, but one could conduct a study to evaluate how the model performance changes with other trainig texts."
   ]
  },
  {
   "attachments": {},
   "cell_type": "markdown",
   "metadata": {},
   "source": [
    "## Building the model"
   ]
  },
  {
   "cell_type": "code",
   "execution_count": 101,
   "metadata": {},
   "outputs": [],
   "source": [
    "def read_clean_text(filename: str):\n",
    "    text = read_file(filename)\n",
    "    text = get_clean_text(text)\n",
    "    return text\n",
    "\n",
    "def graph_matrix_heatmap(matrix: np.array):\n",
    "    sns.heatmap(matrix, cmap=\"Blues\" ,annot=False, xticklabels=string.ascii_lowercase, yticklabels=string.ascii_lowercase)\n",
    "    plt.show()\n",
    "#create matrix with biagram\n",
    "def create_biagram()->np.array:\n",
    "    #The only characters we are going to consider. \n",
    "    all_characters: list = list(string.ascii_lowercase)\n",
    "    n_characters = len(all_characters)\n",
    "    #create the matrix of size n_characters\n",
    "    biagram: np.array = np.zeros((n_characters,n_characters))\n",
    "    return biagram\n",
    "def get_character_index(s: str)->int:\n",
    "    all_characters: list = list(string.ascii_lowercase)\n",
    "    index = all_characters.index(s)\n",
    "    return index\n",
    "\n",
    "\n",
    "def get_filled_biagram(filename: str)->np.array:\n",
    "    text = read_clean_text(filename)\n",
    "    #create the matrix of size n_characters\n",
    "    biagram: np.array = create_biagram()\n",
    "    for index in range(0, len(text)-1):\n",
    "        #check current and next character\n",
    "        current_character = text[index]\n",
    "        current_character_index = get_character_index(current_character)\n",
    "\n",
    "        next_character = text[index+1]\n",
    "        next_character_index = get_character_index(next_character)\n",
    "\n",
    "        current_biagram_value = biagram[current_character_index][next_character_index]\n",
    "        biagram[current_character_index][next_character_index] = current_biagram_value + 1\n",
    "    return biagram\n",
    "\n",
    "\n",
    "    \n",
    "\n",
    "def get_number_of_characters(s: str)->int:\n",
    "    return len(s.replace(\" \", \"\"))\n",
    "\n",
    "def normalize_probabilities(character_count: int, total_characters: int)->float:\n",
    "    return character_count/total_characters\n",
    "    \n",
    "\n",
    "\n",
    "def get_conditional_probabilities(characters_count: np.array)->np.array:\n",
    "    all_characters = string.ascii_lowercase\n",
    "    # + len(all_characters) to account for repetitions (aa, bb, cc, dd, etc.)\n",
    "    n_pairs = characters_count.sum()\n",
    "    probability_matrix = create_biagram()\n",
    "    prob_sum = 0\n",
    "    for i, row in enumerate(characters_count):\n",
    "        for j,count in enumerate(characters_count):\n",
    "            probability_matrix[i][j] = normalize_probabilities(characters_count[i][j], n_pairs)\n",
    "            prob_sum = prob_sum + probability_matrix[i][j]\n",
    "    print(f\"prob_sum = {prob_sum}\")\n",
    "    return probability_matrix\n",
    "\n",
    "\n",
    "def graph_character_likelihood(character_probabilities: dict, title:str):\n",
    "    plt.bar(range(len(character_probabilities)), list(character_probabilities.values()), align='center')\n",
    "    plt.xticks(range(len(character_probabilities)), list(character_probabilities.keys()))\n",
    "    plt.title(title)\n",
    "    plt.grid(False)\n",
    "    plt.show()\n"
   ]
  },
  {
   "cell_type": "code",
   "execution_count": 84,
   "metadata": {},
   "outputs": [],
   "source": [
    "#unit test\n",
    "def check_probabilities_sum(propabilities: dict)->bool:\n",
    "    p_sum = 0\n",
    "    for p in propabilities.keys():\n",
    "        p_sum = propabilities[p]\n",
    "    sum_eq_one = p_sum == 1\n",
    "    if sum_eq_one:\n",
    "        print(\"Sum of probabilities is NOT Equal to 1.\")\n",
    "    else:\n",
    "        print(\"Sum of probabilities is Equal to 1.\")\n",
    "    return sum_eq_one\n",
    "\n",
    "    "
   ]
  },
  {
   "attachments": {},
   "cell_type": "markdown",
   "metadata": {},
   "source": [
    "## English likelihood distribution"
   ]
  },
  {
   "cell_type": "code",
   "execution_count": 102,
   "metadata": {},
   "outputs": [
    {
     "name": "stdout",
     "output_type": "stream",
     "text": [
      "prob_sum = 1.0000000000000018\n"
     ]
    },
    {
     "data": {
      "image/png": "[encoded data removed]",
      "text/plain": [
       "<Figure size 640x480 with 2 Axes>"
      ]
     },
     "metadata": {},
     "output_type": "display_data"
    }
   ],
   "source": [
    "EN_dist = get_filled_biagram(short_story_name_english)\n",
    "# graph_matrix_heatmap(biagram)\n",
    "EN_dist = get_conditional_probabilities(EN_dist)\n",
    "graph_matrix_heatmap(EN_dist)\n"
   ]
  },
  {
   "attachments": {},
   "cell_type": "markdown",
   "metadata": {},
   "source": [
    "## Spanish likelihood distribution"
   ]
  },
  {
   "cell_type": "code",
   "execution_count": 103,
   "metadata": {},
   "outputs": [
    {
     "name": "stdout",
     "output_type": "stream",
     "text": [
      "prob_sum = 1.0000000000000004\n"
     ]
    },
    {
     "data": {
      "image/png": "[encoded data removed]",
      "text/plain": [
       "<Figure size 640x480 with 2 Axes>"
      ]
     },
     "metadata": {},
     "output_type": "display_data"
    }
   ],
   "source": [
    "\n",
    "ES_dist = get_filled_biagram(short_story_name_spanish)\n",
    "# graph_matrix_heatmap(biagram)\n",
    "ES_dist = get_conditional_probabilities(ES_dist)\n",
    "graph_matrix_heatmap(ES_dist)"
   ]
  },
  {
   "attachments": {},
   "cell_type": "markdown",
   "metadata": {},
   "source": [
    "## Spanish likelihood distribution"
   ]
  },
  {
   "cell_type": "code",
   "execution_count": 92,
   "metadata": {},
   "outputs": [],
   "source": [
    "\n",
    "def language_identifier(text:str):\n",
    "\n",
    "    prob_EN = 0\n",
    "    prob_ES = 0\n",
    "    clean_text = get_clean_text(text)\n",
    "    for index in range(0, len(clean_text)-1):\n",
    "      current_character = clean_text[index]\n",
    "      next_character = clean_text[index+1]\n",
    "      \n",
    "      current_character_index = get_character_index(current_character)\n",
    "      next_character_index = get_character_index(next_character)\n",
    "\n",
    "      prob_EN = prob_EN + math.log(EN_dist[current_character_index][next_character_index]+0.0001)\n",
    "      prob_ES = prob_ES + math.log(ES_dist[current_character_index][next_character_index]+0.0001)\n",
    "    if prob_EN>prob_ES:\n",
    "      return 'English'\n",
    "    else:\n",
    "      return 'Spanish'\n"
   ]
  },
  {
   "attachments": {},
   "cell_type": "markdown",
   "metadata": {},
   "source": [
    "## Testing phase\n",
    "Now that the model is ready, we will test it with a dataset of more that 2000 sentences in English and Spanish to see how well it performs. The data used can be found in https://www.kaggle.com/datasets/basilb2s/language-detection."
   ]
  },
  {
   "cell_type": "code",
   "execution_count": 93,
   "metadata": {},
   "outputs": [
    {
     "data": {
      "text/html": [
       "<div>\n",
       "<style scoped>\n",
       "    .dataframe tbody tr th:only-of-type {\n",
       "        vertical-align: middle;\n",
       "    }\n",
       "\n",
       "    .dataframe tbody tr th {\n",
       "        vertical-align: top;\n",
       "    }\n",
       "\n",
       "    .dataframe thead th {\n",
       "        text-align: right;\n",
       "    }\n",
       "</style>\n",
       "<table border=\"1\" class=\"dataframe\">\n",
       "  <thead>\n",
       "    <tr style=\"text-align: right;\">\n",
       "      <th></th>\n",
       "      <th>Text</th>\n",
       "      <th>Language</th>\n",
       "    </tr>\n",
       "  </thead>\n",
       "  <tbody>\n",
       "    <tr>\n",
       "      <th>0</th>\n",
       "      <td>Nature, in the broadest sense, is the natural...</td>\n",
       "      <td>English</td>\n",
       "    </tr>\n",
       "    <tr>\n",
       "      <th>1</th>\n",
       "      <td>\"Nature\" can refer to the phenomena of the phy...</td>\n",
       "      <td>English</td>\n",
       "    </tr>\n",
       "    <tr>\n",
       "      <th>2</th>\n",
       "      <td>The study of nature is a large, if not the onl...</td>\n",
       "      <td>English</td>\n",
       "    </tr>\n",
       "    <tr>\n",
       "      <th>3</th>\n",
       "      <td>Although humans are part of nature, human acti...</td>\n",
       "      <td>English</td>\n",
       "    </tr>\n",
       "    <tr>\n",
       "      <th>4</th>\n",
       "      <td>[1] The word nature is borrowed from the Old F...</td>\n",
       "      <td>English</td>\n",
       "    </tr>\n",
       "    <tr>\n",
       "      <th>...</th>\n",
       "      <td>...</td>\n",
       "      <td>...</td>\n",
       "    </tr>\n",
       "    <tr>\n",
       "      <th>10332</th>\n",
       "      <td>ನಿಮ್ಮ ತಪ್ಪು ಏನು ಬಂದಿದೆಯೆಂದರೆ ಆ ದಿನದಿಂದ ನಿಮಗೆ ಒ...</td>\n",
       "      <td>Kannada</td>\n",
       "    </tr>\n",
       "    <tr>\n",
       "      <th>10333</th>\n",
       "      <td>ನಾರ್ಸಿಸಾ ತಾನು ಮೊದಲಿಗೆ ಹೆಣಗಾಡುತ್ತಿದ್ದ ಮಾರ್ಗಗಳನ್...</td>\n",
       "      <td>Kannada</td>\n",
       "    </tr>\n",
       "    <tr>\n",
       "      <th>10334</th>\n",
       "      <td>ಹೇಗೆ ' ನಾರ್ಸಿಸಿಸಮ್ ಈಗ ಮರಿಯನ್ ಅವರಿಗೆ ಸಂಭವಿಸಿದ ಎ...</td>\n",
       "      <td>Kannada</td>\n",
       "    </tr>\n",
       "    <tr>\n",
       "      <th>10335</th>\n",
       "      <td>ಅವಳು ಈಗ ಹೆಚ್ಚು ಚಿನ್ನದ ಬ್ರೆಡ್ ಬಯಸುವುದಿಲ್ಲ ಎಂದು ...</td>\n",
       "      <td>Kannada</td>\n",
       "    </tr>\n",
       "    <tr>\n",
       "      <th>10336</th>\n",
       "      <td>ಟೆರ್ರಿ ನೀವು ನಿಜವಾಗಿಯೂ ಆ ದೇವದೂತನಂತೆ ಸ್ವಲ್ಪ ಕಾಣು...</td>\n",
       "      <td>Kannada</td>\n",
       "    </tr>\n",
       "  </tbody>\n",
       "</table>\n",
       "<p>10337 rows × 2 columns</p>\n",
       "</div>"
      ],
      "text/plain": [
       "                                                    Text Language\n",
       "0       Nature, in the broadest sense, is the natural...  English\n",
       "1      \"Nature\" can refer to the phenomena of the phy...  English\n",
       "2      The study of nature is a large, if not the onl...  English\n",
       "3      Although humans are part of nature, human acti...  English\n",
       "4      [1] The word nature is borrowed from the Old F...  English\n",
       "...                                                  ...      ...\n",
       "10332  ನಿಮ್ಮ ತಪ್ಪು ಏನು ಬಂದಿದೆಯೆಂದರೆ ಆ ದಿನದಿಂದ ನಿಮಗೆ ಒ...  Kannada\n",
       "10333  ನಾರ್ಸಿಸಾ ತಾನು ಮೊದಲಿಗೆ ಹೆಣಗಾಡುತ್ತಿದ್ದ ಮಾರ್ಗಗಳನ್...  Kannada\n",
       "10334  ಹೇಗೆ ' ನಾರ್ಸಿಸಿಸಮ್ ಈಗ ಮರಿಯನ್ ಅವರಿಗೆ ಸಂಭವಿಸಿದ ಎ...  Kannada\n",
       "10335  ಅವಳು ಈಗ ಹೆಚ್ಚು ಚಿನ್ನದ ಬ್ರೆಡ್ ಬಯಸುವುದಿಲ್ಲ ಎಂದು ...  Kannada\n",
       "10336  ಟೆರ್ರಿ ನೀವು ನಿಜವಾಗಿಯೂ ಆ ದೇವದೂತನಂತೆ ಸ್ವಲ್ಪ ಕಾಣು...  Kannada\n",
       "\n",
       "[10337 rows x 2 columns]"
      ]
     },
     "execution_count": 93,
     "metadata": {},
     "output_type": "execute_result"
    }
   ],
   "source": [
    "df = pd.read_csv('Language Detection.csv') #importing the data\n",
    "df"
   ]
  },
  {
   "cell_type": "code",
   "execution_count": 94,
   "metadata": {},
   "outputs": [
    {
     "data": {
      "text/html": [
       "<div>\n",
       "<style scoped>\n",
       "    .dataframe tbody tr th:only-of-type {\n",
       "        vertical-align: middle;\n",
       "    }\n",
       "\n",
       "    .dataframe tbody tr th {\n",
       "        vertical-align: top;\n",
       "    }\n",
       "\n",
       "    .dataframe thead th {\n",
       "        text-align: right;\n",
       "    }\n",
       "</style>\n",
       "<table border=\"1\" class=\"dataframe\">\n",
       "  <thead>\n",
       "    <tr style=\"text-align: right;\">\n",
       "      <th></th>\n",
       "      <th>Text</th>\n",
       "      <th>Language</th>\n",
       "    </tr>\n",
       "  </thead>\n",
       "  <tbody>\n",
       "    <tr>\n",
       "      <th>0</th>\n",
       "      <td>Nature, in the broadest sense, is the natural...</td>\n",
       "      <td>English</td>\n",
       "    </tr>\n",
       "    <tr>\n",
       "      <th>1</th>\n",
       "      <td>\"Nature\" can refer to the phenomena of the phy...</td>\n",
       "      <td>English</td>\n",
       "    </tr>\n",
       "    <tr>\n",
       "      <th>2</th>\n",
       "      <td>The study of nature is a large, if not the onl...</td>\n",
       "      <td>English</td>\n",
       "    </tr>\n",
       "    <tr>\n",
       "      <th>3</th>\n",
       "      <td>Although humans are part of nature, human acti...</td>\n",
       "      <td>English</td>\n",
       "    </tr>\n",
       "    <tr>\n",
       "      <th>4</th>\n",
       "      <td>[1] The word nature is borrowed from the Old F...</td>\n",
       "      <td>English</td>\n",
       "    </tr>\n",
       "    <tr>\n",
       "      <th>...</th>\n",
       "      <td>...</td>\n",
       "      <td>...</td>\n",
       "    </tr>\n",
       "    <tr>\n",
       "      <th>5624</th>\n",
       "      <td>¿Tiene ella?</td>\n",
       "      <td>Spanish</td>\n",
       "    </tr>\n",
       "    <tr>\n",
       "      <th>5625</th>\n",
       "      <td>Supongo que no querría más pan de oro ahora ¿e...</td>\n",
       "      <td>Spanish</td>\n",
       "    </tr>\n",
       "    <tr>\n",
       "      <th>5626</th>\n",
       "      <td>Terry, en realidad te pareces un poco a ese án...</td>\n",
       "      <td>Spanish</td>\n",
       "    </tr>\n",
       "    <tr>\n",
       "      <th>5627</th>\n",
       "      <td>¿Cómo pudiste ser él?</td>\n",
       "      <td>Spanish</td>\n",
       "    </tr>\n",
       "    <tr>\n",
       "      <th>5628</th>\n",
       "      <td>Ustedes dos son tan amables</td>\n",
       "      <td>Spanish</td>\n",
       "    </tr>\n",
       "  </tbody>\n",
       "</table>\n",
       "<p>2204 rows × 2 columns</p>\n",
       "</div>"
      ],
      "text/plain": [
       "                                                   Text Language\n",
       "0      Nature, in the broadest sense, is the natural...  English\n",
       "1     \"Nature\" can refer to the phenomena of the phy...  English\n",
       "2     The study of nature is a large, if not the onl...  English\n",
       "3     Although humans are part of nature, human acti...  English\n",
       "4     [1] The word nature is borrowed from the Old F...  English\n",
       "...                                                 ...      ...\n",
       "5624                                       ¿Tiene ella?  Spanish\n",
       "5625  Supongo que no querría más pan de oro ahora ¿e...  Spanish\n",
       "5626  Terry, en realidad te pareces un poco a ese án...  Spanish\n",
       "5627                              ¿Cómo pudiste ser él?  Spanish\n",
       "5628                        Ustedes dos son tan amables  Spanish\n",
       "\n",
       "[2204 rows x 2 columns]"
      ]
     },
     "execution_count": 94,
     "metadata": {},
     "output_type": "execute_result"
    }
   ],
   "source": [
    "dfing = df[df.Language=='English'] #Filtering the data so we have only Spanish and English\n",
    "dfesp = df[df.Language=='Spanish']\n",
    "df2   = pd.concat([dfing,dfesp])\n",
    "df2"
   ]
  },
  {
   "cell_type": "code",
   "execution_count": 95,
   "metadata": {},
   "outputs": [],
   "source": [
    "#It's test day!\n",
    "CorrectES = 0\n",
    "CorrectEN = 0\n",
    "FailsES   = 0\n",
    "FailsEN   = 0\n",
    "for i in range(0,2204):\n",
    "    pred = language_identifier(df2.iloc[i,0])\n",
    "    if (pred == df2.iloc[i,1]) and (pred == 'Spanish'):\n",
    "        CorrectES+=1\n",
    "    elif (pred == df2.iloc[i,1]) and (pred == 'English'):\n",
    "        CorrectEN +=1\n",
    "    elif (df2.iloc[i,1]=='Spanish'):\n",
    "        FailsES +=1\n",
    "    else:\n",
    "        FailsEN +=1\n",
    "\n"
   ]
  },
  {
   "attachments": {},
   "cell_type": "markdown",
   "metadata": {},
   "source": [
    "## Results"
   ]
  },
  {
   "cell_type": "code",
   "execution_count": 96,
   "metadata": {},
   "outputs": [
    {
     "data": {
      "image/png": "[encoded data removed]",
      "text/plain": [
       "<Figure size 640x480 with 1 Axes>"
      ]
     },
     "metadata": {},
     "output_type": "display_data"
    },
    {
     "name": "stdout",
     "output_type": "stream",
     "text": [
      " Spanish accuracy: 0.978021978021978 \n",
      " English accuracy: 0.9032490974729241 \n",
      " Total accuracy:   0.9310344827586207\n"
     ]
    }
   ],
   "source": [
    "labels = ['Spanish', 'English']\n",
    "men_means = [FailsES, FailsEN]\n",
    "women_means = [CorrectES, CorrectEN]\n",
    "\n",
    "x = np.arange(len(labels))  # the label locations\n",
    "width = 0.35  # the width of the bars\n",
    "\n",
    "fig, ax = plt.subplots()\n",
    "ax.grid(False)\n",
    "rects1 = ax.bar(x - width/2, men_means, width, label='Fails')\n",
    "rects2 = ax.bar(x + width/2, women_means, width, label='Correct')\n",
    "\n",
    "# Add some text for labels, title and custom x-axis tick labels, etc.\n",
    "ax.set_ylabel('Sentences')\n",
    "ax.set_title('Accuracy by language')\n",
    "ax.set_xticks(x, labels)\n",
    "ax.legend()\n",
    "\n",
    "ax.bar_label(rects1, padding=3)\n",
    "ax.bar_label(rects2, padding=3)\n",
    "\n",
    "fig.tight_layout()\n",
    "\n",
    "plt.show()\n",
    "\n",
    "print(\" Spanish accuracy:\", CorrectES/(CorrectES+FailsES),\n",
    "      \"\\n English accuracy:\", CorrectEN/(CorrectEN+FailsEN),\n",
    "      \"\\n Total accuracy:  \", (CorrectEN+CorrectES)/(CorrectES+CorrectEN+FailsEN+FailsES))"
   ]
  },
  {
   "attachments": {},
   "cell_type": "markdown",
   "metadata": {},
   "source": [
    "## Analysis and conclusion\n",
    "We can see that the model identified the language with a decent accuracy, specially considering its simplicity. A posible explanation for the specially remarkable performance with the Spanish sentences is the larger lenght of 'Cien años de soledad' compared to 'To kill a mockingbird'; it could also be possible that Spanish has a more 'recognisable syntax' when compared to English. Addionally, in the future, the model could be expanded by adding more languages.\n",
    "\n",
    "Overall, it is nice and refreshing to see a language detector model that does not use machine learning and still performs decently. It would be interesting to compare its performance with one of a ML model and keep pushing the frontiers of the language detection world."
   ]
  }
 ],
 "metadata": {
  "kernelspec": {
   "display_name": ".venv",
   "language": "python",
   "name": "python3"
  },
  "language_info": {
   "codemirror_mode": {
    "name": "ipython",
    "version": 3
   },
   "file_extension": ".py",
   "mimetype": "text/x-python",
   "name": "python",
   "nbconvert_exporter": "python",
   "pygments_lexer": "ipython3",
   "version": "3.10.6"
  },
  "orig_nbformat": 4,
  "vscode": {
   "interpreter": {
    "hash": "c8be2695fda4a10b7beed306cdb1de44667d516aab60ef0ee9374bfcdb069c71"
   }
  }
 },
 "nbformat": 4,
 "nbformat_minor": 2
}
